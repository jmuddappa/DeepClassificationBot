{
  "nbformat": 4,
  "nbformat_minor": 0,
  "metadata": {
    "colab": {
      "name": "roberta_cdqa.ipynb",
      "provenance": [],
      "authorship_tag": "ABX9TyMeFHLaE1tIQ7MZ2GmaaWFw",
      "include_colab_link": true
    },
    "kernelspec": {
      "name": "python3",
      "display_name": "Python 3"
    },
    "accelerator": "GPU"
  },
  "cells": [
    {
      "cell_type": "markdown",
      "metadata": {
        "id": "view-in-github",
        "colab_type": "text"
      },
      "source": [
        "<a href=\"https://colab.research.google.com/github/jmuddappa/DeepClassificationBot/blob/master/roberta_cdqa.ipynb\" target=\"_parent\"><img src=\"https://colab.research.google.com/assets/colab-badge.svg\" alt=\"Open In Colab\"/></a>"
      ]
    },
    {
      "cell_type": "code",
      "metadata": {
        "id": "hmGbRIVP6C4l",
        "colab_type": "code",
        "colab": {
          "base_uri": "https://localhost:8080/",
          "height": 34
        },
        "outputId": "e7bf5ed5-3b16-4c2f-edbe-5436f05b485c"
      },
      "source": [
        "!git clone https://github.com/pytorch/fairseq"
      ],
      "execution_count": 35,
      "outputs": [
        {
          "output_type": "stream",
          "text": [
            "fatal: destination path 'fairseq' already exists and is not an empty directory.\n"
          ],
          "name": "stdout"
        }
      ]
    },
    {
      "cell_type": "code",
      "metadata": {
        "id": "sORWamKjD1Gs",
        "colab_type": "code",
        "colab": {
          "base_uri": "https://localhost:8080/",
          "height": 306
        },
        "outputId": "eafd9510-6260-4002-c37c-447e47892c30"
      },
      "source": [
        "%cd fairseq\n",
        "!pip install --editable ."
      ],
      "execution_count": 36,
      "outputs": [
        {
          "output_type": "stream",
          "text": [
            "/content/fairseq\n",
            "Obtaining file:///content/fairseq\n",
            "Requirement already satisfied: cffi in /usr/local/lib/python3.6/dist-packages (from fairseq==0.9.0) (1.14.0)\n",
            "Requirement already satisfied: cython in /usr/local/lib/python3.6/dist-packages (from fairseq==0.9.0) (0.29.15)\n",
            "Requirement already satisfied: numpy in /usr/local/lib/python3.6/dist-packages (from fairseq==0.9.0) (1.17.5)\n",
            "Requirement already satisfied: regex in /usr/local/lib/python3.6/dist-packages (from fairseq==0.9.0) (2019.12.20)\n",
            "Requirement already satisfied: sacrebleu in /usr/local/lib/python3.6/dist-packages (from fairseq==0.9.0) (1.4.3)\n",
            "Requirement already satisfied: torch in /usr/local/lib/python3.6/dist-packages (from fairseq==0.9.0) (1.4.0)\n",
            "Requirement already satisfied: tqdm in /usr/local/lib/python3.6/dist-packages (from fairseq==0.9.0) (4.28.1)\n",
            "Requirement already satisfied: pycparser in /usr/local/lib/python3.6/dist-packages (from cffi->fairseq==0.9.0) (2.19)\n",
            "Requirement already satisfied: portalocker in /usr/local/lib/python3.6/dist-packages (from sacrebleu->fairseq==0.9.0) (1.5.2)\n",
            "Requirement already satisfied: typing in /usr/local/lib/python3.6/dist-packages (from sacrebleu->fairseq==0.9.0) (3.6.6)\n",
            "Installing collected packages: fairseq\n",
            "  Found existing installation: fairseq 0.9.0\n",
            "    Can't uninstall 'fairseq'. No files were found to uninstall.\n",
            "  Running setup.py develop for fairseq\n",
            "Successfully installed fairseq\n"
          ],
          "name": "stdout"
        }
      ]
    },
    {
      "cell_type": "code",
      "metadata": {
        "id": "wj2LqLGB6P8m",
        "colab_type": "code",
        "colab": {
          "base_uri": "https://localhost:8080/",
          "height": 163
        },
        "outputId": "084eae04-5798-47ca-ef37-52a792915158"
      },
      "source": [
        "!wget https://dl.fbaipublicfiles.com/fairseq/models/roberta.large.tar.gz\n",
        "!tar -xvf /content/fairseq/roberta.large.tar.gz\n",
        "!bash examples/roberta/commonsense_qa/download_cqa_data.sh\n"
      ],
      "execution_count": 0,
      "outputs": [
        {
          "output_type": "stream",
          "text": [
            "--2020-02-14 19:57:59--  https://dl.fbaipublicfiles.com/fairseq/models/roberta.large.tar.gz\n",
            "Resolving dl.fbaipublicfiles.com (dl.fbaipublicfiles.com)... 104.20.6.166, 104.20.22.166, 2606:4700:10::6814:6a6, ...\n",
            "Connecting to dl.fbaipublicfiles.com (dl.fbaipublicfiles.com)|104.20.6.166|:443... connected.\n",
            "HTTP request sent, awaiting response... 200 OK\n",
            "Length: 655283069 (625M) [application/gzip]\n",
            "Saving to: ‘roberta.large.tar.gz.1’\n",
            "\n",
            "roberta.large.tar.g  62%[===========>        ] 393.70M  12.2MB/s    eta 21s    "
          ],
          "name": "stdout"
        }
      ]
    },
    {
      "cell_type": "code",
      "metadata": {
        "id": "PqVPGBQf6WoM",
        "colab_type": "code",
        "colab": {}
      },
      "source": [
        "%env MAX_UPDATES=3000\n",
        "%env WARMUP_UPDATES=150\n",
        "%env LR=1e-05\n",
        "%env MAX_SENTENCES=16\n",
        "%env SEED=1\n",
        "%env ROBERTA_PATH=/roberta.large/model.pt\n",
        "%env DATA_DIR=/content/fairseq/data/CommonsenseQA\n",
        "\n",
        "%env FAIRSEQ_PATH=/content/fairseq\n",
        "%env FAIRSEQ_USER_DIR=/content/fairseq/examples/roberta/commonsense_qa\n",
        "\n",
        "!CUDA_VISIBLE_DEVICES=0 fairseq-train --fp16 --ddp-backend=no_c10d $DATA_DIR --user-dir $FAIRSEQ_USER_DIR \\\n",
        "    --restore-file $ROBERTA_PATH \\\n",
        "    --reset-optimizer --reset-dataloader --reset-meters \\\n",
        "    --no-epoch-checkpoints --no-last-checkpoints --no-save-optimizer-state \\\n",
        "    --best-checkpoint-metric accuracy --maximize-best-checkpoint-metric \\\n",
        "    --task commonsense_qa --init-token 0 --bpe gpt2 \\\n",
        "    --arch roberta_large --max-positions 512 \\\n",
        "    --dropout 0.1 --attention-dropout 0.1 --weight-decay 0.01 \\\n",
        "    --criterion sentence_ranking --num-classes 5 \\\n",
        "    --optimizer adam --adam-betas '(0.9, 0.98)' --adam-eps 1e-06 --clip-norm 0.0 \\\n",
        "    --lr-scheduler polynomial_decay --lr $LR \\\n",
        "    --warmup-updates $WARMUP_UPDATES --total-num-update $MAX_UPDATES \\\n",
        "    --max-sentences $MAX_SENTENCES \\\n",
        "    --max-update $MAX_UPDATES \\\n",
        "    --log-format simple --log-interval 25 \\\n",
        "    --seed $SEED"
      ],
      "execution_count": 0,
      "outputs": []
    }
  ]
}